{
 "cells": [
  {
   "cell_type": "markdown",
   "metadata": {},
   "source": [
    "# Brewing Data Cup"
   ]
  },
  {
   "cell_type": "code",
   "execution_count": 1,
   "metadata": {},
   "outputs": [],
   "source": [
    "import numpy as np\n",
    "import pandas as pd\n",
    "pd.set_option('display.max_columns', None)\n",
    "import matplotlib.pyplot as plt\n",
    "import seaborn as sns\n",
    "%matplotlib inline"
   ]
  },
  {
   "cell_type": "code",
   "execution_count": 2,
   "metadata": {},
   "outputs": [],
   "source": [
    "active_promos = pd.read_csv('data/active_promos.csv')\n",
    "active_promos['Fecha_Desde'] = pd.to_datetime(active_promos['Fecha_Desde'], format='%Y-%m-%d')\n",
    "active_promos['Fecha_Hasta'] = pd.to_datetime(active_promos['Fecha_Hasta'], format='%Y-%m-%d')\n",
    "active_promos['dias_promo'] = (active_promos['Fecha_Hasta']-active_promos['Fecha_Desde']).dt.days.astype('int64')\n",
    "active_promos['Fecha_Desde'] = active_promos.Fecha_Desde.dt.year*100+active_promos.Fecha_Desde.dt.month\n",
    "active_promos['Fecha_Hasta'] = active_promos.Fecha_Hasta.dt.year*100+active_promos.Fecha_Hasta.dt.month\n",
    "active_promos['duracion'] = active_promos['Fecha_Hasta']-active_promos['Fecha_Desde']\n",
    "\n",
    "executed_promos = pd.read_csv('data/executed_promos.csv')\n",
    "\n",
    "clients = pd.read_csv('data/clients_attributes.csv')\n",
    "clients['FechaAltaCliente'] = pd.to_datetime(clients['FechaAltaCliente'], format='%Y-%m-%d')\n",
    "clients['FechaAltaCliente'] = clients.FechaAltaCliente.dt.year*100+clients.FechaAltaCliente.dt.month\n",
    "\n",
    "sales = pd.read_csv('data/sales.csv',encoding='ISO-8859-1')\n",
    "sales = sales.dropna()\n",
    "sales['fecha'] = sales.Año*100+sales.Mes\n",
    "sales.drop(columns=['Año','Mes'],inplace=True)\n",
    "\n",
    "test = pd.read_csv('data/test.csv')"
   ]
  },
  {
   "cell_type": "code",
   "execution_count": 3,
   "metadata": {},
   "outputs": [],
   "source": [
    "executed_promos['target'] = 1\n",
    "df = active_promos.merge(executed_promos,on=['CodigoDC','Cliente','Marca','Cupo'],how='left').replace(np.nan,0)"
   ]
  },
  {
   "cell_type": "code",
   "execution_count": 4,
   "metadata": {},
   "outputs": [],
   "source": [
    "rechazados = []\n",
    "agr = {'target':['count','sum','mean']}\n",
    "ext = []\n",
    "agre = {'CodigoDC':'nunique','duracion':'mean'}\n",
    "\n",
    "for i in list(df.Fecha_Desde.unique()):\n",
    "    aux = df[df.Fecha_Hasta < i].groupby(['Cliente','Marca','Cupo']).agg(agr)\n",
    "    aux.columns = [j+'_'+k for j,k in aux.columns]\n",
    "    aux['prom_rechazo'] = aux['target_count'] - aux['target_sum']\n",
    "    aux.drop(columns=['target_count','target_sum'],inplace=True)\n",
    "    aux['Fecha_Desde'] = i\n",
    "    rechazados.append(aux)\n",
    "    \n",
    "    aux2 = df[df.Fecha_Desde == i].groupby(['Cliente','Marca','Cupo']).agg(agre)\n",
    "    aux2.columns = ['nproms_ofre','duracion_mes_mean']\n",
    "    aux2['Fecha_Desde'] = i\n",
    "    ext.append(aux2)\n",
    "    \n",
    "hist_rech = pd.concat(rechazados)\n",
    "agre_1 = pd.concat(ext)\n",
    "df = df.merge(hist_rech,on=['Cliente','Marca','Cupo','Fecha_Desde'],how='left')\n",
    "df = df.merge(agre_1,on=['Cliente','Marca','Cupo','Fecha_Desde'],how='left')\n",
    "df = df.replace(np.nan,0)"
   ]
  },
  {
   "cell_type": "code",
   "execution_count": 5,
   "metadata": {},
   "outputs": [],
   "source": [
    "adi = []\n",
    "agreg = {'CodigoDC':'nunique',\n",
    "           'target':['max','mean'],\n",
    "           'Fecha_Desde':'nunique',\n",
    "           'target_mean':['max','mean'],\n",
    "           'dias_promo':['mean','max','min','std']}\n",
    "\n",
    "for i in list(df.Fecha_Desde.unique()):\n",
    "    aux3 = df[df.Fecha_Desde<i].groupby(['Cliente','Marca','Cupo']).agg(agreg)\n",
    "    aux3.columns = [j+'_'+k for j,k in aux3.columns]\n",
    "    aux3['Fecha_Desde'] = i\n",
    "    aux3 = aux3.reset_index()\n",
    "    adi.append(aux3)\n",
    "    \n",
    "agre_2 = pd.concat(adi)\n",
    "df = df.merge(agre_2,on=['Cliente','Marca','Cupo','Fecha_Desde'],how='left')\n",
    "df = df.replace(np.nan,0)\n",
    "#df"
   ]
  },
  {
   "cell_type": "code",
   "execution_count": null,
   "metadata": {},
   "outputs": [],
   "source": [
    "productos_train=list(active_promos['producto_encoded'].unique())\n",
    "\n",
    "agg_cliente={'ClaseEnvase':[f],\n",
    "             'SegmentoPrecio':['mean'],\n",
    "             'producto_encoded':['nunique',f],\n",
    "             'Anio_Mes':['max','min'],\n",
    "             'Nr':['median','max','min','std'],\n",
    "             'Hl':['mean','max','min','std'],\n",
    "             'Dcto':['mean','max','min','std'],\n",
    "             'riesgo_producto':['mean', 'max', 'min', 'std']}\n",
    "\n",
    "agg_producto={'Cliente':['nunique'],\n",
    "            'ClaseEnvase':[f],\n",
    "             'SegmentoPrecio':['mean'],\n",
    "             #'Anio_Mes':['nunique','max','min'],\n",
    "             'Nr':['median','max','min','std',cuenta_neg],\n",
    "             'Hl':['mean','max','min','std'],\n",
    "             'Dcto':['mean','max','min','std',cuenta_desc],\n",
    "              'riesgo_producto':['mean', 'max', 'min', 'std']}\n",
    "\n",
    "agg_cliente_producto={'Anio_Mes':['max','min'],\n",
    "             'Nr':['median','max','min','std'],\n",
    "             'Hl':['mean','max','min','std'],\n",
    "             'Dcto':['mean','max','min','std'],\n",
    "            'riesgo_producto':['mean', 'max', 'min', 'std']}\n",
    "\n",
    "l_1=[]\n",
    "l_2=[]\n",
    "l_3=[]\n",
    "\n",
    "for i in tqdm_notebook(list(active_promos.aniomes_desde.unique())):\n",
    "    \n",
    "    t1=sales[sales.Anio_Mes<i].groupby('Cliente').agg(agg_cliente)\n",
    "    t1.columns=['cliente_'+str(a)+'_'+str(b) for a,b in t1.columns]\n",
    "    t1=t1.reset_index()\n",
    "    t1['aniomes_desde']=i\n",
    "\n",
    "    t2=sales[(sales.producto_encoded.isin(productos_train)) & (sales.Anio_Mes<i)].groupby(['producto_encoded']).agg(agg_producto)\n",
    "    t2.columns=['producto_'+str(a)+'_'+str(b) for a,b in t2.columns]\n",
    "    t2=t2.reset_index()\n",
    "    t2['aniomes_desde']=i\n",
    "\n",
    "    t3=sales[(sales.producto_encoded.isin(productos_train)) & (sales.Anio_Mes<i)].groupby(['Cliente','producto_encoded']).agg(agg_cliente_producto)\n",
    "    t3.columns=['cliente_producto_'+str(a)+'_'+str(b) for a,b in t3.columns]\n",
    "    t3=t3.reset_index()\n",
    "    t3['aniomes_desde']=i\n",
    "    \n",
    "    l_1.append(t1)\n",
    "    l_2.append(t2)\n",
    "    l_3.append(t3)\n",
    "    \n",
    "g_cliente=pd.concat(l_1)\n",
    "g_producto=pd.concat(l_2)\n",
    "g_cliente_producto=pd.concat(l_3)"
   ]
  },
  {
   "cell_type": "code",
   "execution_count": 6,
   "metadata": {},
   "outputs": [
    {
     "data": {
      "text/plain": [
       "{'whiskers': [<matplotlib.lines.Line2D at 0x7f80077d09d0>,\n",
       "  <matplotlib.lines.Line2D at 0x7f80077d0e10>],\n",
       " 'caps': [<matplotlib.lines.Line2D at 0x7f80077dd290>,\n",
       "  <matplotlib.lines.Line2D at 0x7f80077dd6d0>],\n",
       " 'boxes': [<matplotlib.lines.Line2D at 0x7f80077d0590>],\n",
       " 'medians': [<matplotlib.lines.Line2D at 0x7f80077ddb50>],\n",
       " 'fliers': [<matplotlib.lines.Line2D at 0x7f80077ddf90>],\n",
       " 'means': []}"
      ]
     },
     "execution_count": 6,
     "metadata": {},
     "output_type": "execute_result"
    },
    {
     "data": {
      "image/png": "[encoded data removed]",
      "text/plain": [
       "<Figure size 432x288 with 1 Axes>"
      ]
     },
     "metadata": {
      "needs_background": "light"
     },
     "output_type": "display_data"
    }
   ],
   "source": [
    "sales['riesgo_producto'] = (sales['Dcto'] / sales['Nr'])\n",
    "sales.riesgo_producto = sales.riesgo_producto.fillna(0)\n",
    "sales = sales.drop(sales[sales.riesgo_producto < -600].index)\n",
    "sales = sales.drop(sales[sales.riesgo_producto > 1000].index)\n",
    "plt.boxplot(sales.riesgo_producto)"
   ]
  },
  {
   "cell_type": "code",
   "execution_count": 7,
   "metadata": {},
   "outputs": [],
   "source": [
    "master = []\n",
    "ad = {'Hl':['sum','min','max','mean'],\n",
    "     'Dcto':['sum','min','max','mean'],\n",
    "     'Nr':['sum','min','max','mean']}\n",
    "\n",
    "for i in list(df.Fecha_Desde.unique()):\n",
    "    temp = sales[(sales.fecha<i)].groupby(['Cliente']).agg(ad)\n",
    "    temp.columns = [str(j)+'_'+str(k) for j,k in temp.columns]\n",
    "    temp['Fecha_Desde'] = i # Acumulado de ventas hasta antes de la Fecha_Desde de la promo\n",
    "    master.append(temp)\n",
    "acum_cliente = pd.concat(master).reset_index()\n",
    "df = df.merge(acum_cliente,on=['Cliente','Fecha_Desde'],how='left')"
   ]
  },
  {
   "cell_type": "code",
   "execution_count": 8,
   "metadata": {},
   "outputs": [
    {
     "data": {
      "text/html": [
       "<div>\n",
       "<style scoped>\n",
       "    .dataframe tbody tr th:only-of-type {\n",
       "        vertical-align: middle;\n",
       "    }\n",
       "\n",
       "    .dataframe tbody tr th {\n",
       "        vertical-align: top;\n",
       "    }\n",
       "\n",
       "    .dataframe thead th {\n",
       "        text-align: right;\n",
       "    }\n",
       "</style>\n",
       "<table border=\"1\" class=\"dataframe\">\n",
       "  <thead>\n",
       "    <tr style=\"text-align: right;\">\n",
       "      <th></th>\n",
       "      <th>CodigoDC</th>\n",
       "      <th>Marca</th>\n",
       "      <th>Cupo</th>\n",
       "      <th>Fecha_Desde</th>\n",
       "      <th>Fecha_Hasta</th>\n",
       "      <th>Cliente</th>\n",
       "      <th>dias_promo</th>\n",
       "      <th>duracion</th>\n",
       "      <th>target</th>\n",
       "      <th>target_mean_x</th>\n",
       "      <th>prom_rechazo</th>\n",
       "      <th>nproms_ofre</th>\n",
       "      <th>duracion_mes_mean</th>\n",
       "      <th>CodigoDC_nunique</th>\n",
       "      <th>target_max</th>\n",
       "      <th>target_mean_y</th>\n",
       "      <th>Fecha_Desde_nunique</th>\n",
       "      <th>target_mean_max</th>\n",
       "      <th>target_mean_mean</th>\n",
       "      <th>dias_promo_mean</th>\n",
       "      <th>dias_promo_max</th>\n",
       "      <th>dias_promo_min</th>\n",
       "      <th>dias_promo_std</th>\n",
       "      <th>Hl_sum</th>\n",
       "      <th>Hl_min</th>\n",
       "      <th>Hl_max</th>\n",
       "      <th>Hl_mean</th>\n",
       "      <th>Dcto_sum</th>\n",
       "      <th>Dcto_min</th>\n",
       "      <th>Dcto_max</th>\n",
       "      <th>Dcto_mean</th>\n",
       "      <th>Nr_sum</th>\n",
       "      <th>Nr_min</th>\n",
       "      <th>Nr_max</th>\n",
       "      <th>Nr_mean</th>\n",
       "      <th>FechaAltaCliente</th>\n",
       "      <th>Region</th>\n",
       "      <th>Gerencia</th>\n",
       "      <th>SubCanal</th>\n",
       "      <th>TipoPoblacion</th>\n",
       "      <th>Estrato</th>\n",
       "      <th>EF</th>\n",
       "    </tr>\n",
       "  </thead>\n",
       "  <tbody>\n",
       "    <tr>\n",
       "      <th>0</th>\n",
       "      <td>297601</td>\n",
       "      <td>29</td>\n",
       "      <td>9</td>\n",
       "      <td>201808</td>\n",
       "      <td>201808</td>\n",
       "      <td>3213</td>\n",
       "      <td>24</td>\n",
       "      <td>0</td>\n",
       "      <td>0.0</td>\n",
       "      <td>0.0</td>\n",
       "      <td>0.0</td>\n",
       "      <td>1</td>\n",
       "      <td>0.0</td>\n",
       "      <td>0.0</td>\n",
       "      <td>0.0</td>\n",
       "      <td>0.0</td>\n",
       "      <td>0.0</td>\n",
       "      <td>0.0</td>\n",
       "      <td>0.0</td>\n",
       "      <td>0.0</td>\n",
       "      <td>0.0</td>\n",
       "      <td>0.0</td>\n",
       "      <td>0.0</td>\n",
       "      <td>10.00</td>\n",
       "      <td>0.01</td>\n",
       "      <td>0.62</td>\n",
       "      <td>0.096154</td>\n",
       "      <td>-128346.89</td>\n",
       "      <td>-22086.67</td>\n",
       "      <td>0.0</td>\n",
       "      <td>-1234.104712</td>\n",
       "      <td>3053627.15</td>\n",
       "      <td>3092.91</td>\n",
       "      <td>178134.55</td>\n",
       "      <td>29361.799519</td>\n",
       "      <td>201003</td>\n",
       "      <td>3</td>\n",
       "      <td>8</td>\n",
       "      <td>15</td>\n",
       "      <td>2</td>\n",
       "      <td>3</td>\n",
       "      <td>1</td>\n",
       "    </tr>\n",
       "    <tr>\n",
       "      <th>1</th>\n",
       "      <td>297601</td>\n",
       "      <td>29</td>\n",
       "      <td>9</td>\n",
       "      <td>201808</td>\n",
       "      <td>201808</td>\n",
       "      <td>3795</td>\n",
       "      <td>24</td>\n",
       "      <td>0</td>\n",
       "      <td>0.0</td>\n",
       "      <td>0.0</td>\n",
       "      <td>0.0</td>\n",
       "      <td>1</td>\n",
       "      <td>0.0</td>\n",
       "      <td>0.0</td>\n",
       "      <td>0.0</td>\n",
       "      <td>0.0</td>\n",
       "      <td>0.0</td>\n",
       "      <td>0.0</td>\n",
       "      <td>0.0</td>\n",
       "      <td>0.0</td>\n",
       "      <td>0.0</td>\n",
       "      <td>0.0</td>\n",
       "      <td>0.0</td>\n",
       "      <td>9.99</td>\n",
       "      <td>0.03</td>\n",
       "      <td>0.98</td>\n",
       "      <td>0.203878</td>\n",
       "      <td>-248783.11</td>\n",
       "      <td>-70273.24</td>\n",
       "      <td>0.0</td>\n",
       "      <td>-5077.206327</td>\n",
       "      <td>3378290.77</td>\n",
       "      <td>-13347.44</td>\n",
       "      <td>284888.42</td>\n",
       "      <td>68944.709592</td>\n",
       "      <td>201004</td>\n",
       "      <td>3</td>\n",
       "      <td>10</td>\n",
       "      <td>6</td>\n",
       "      <td>2</td>\n",
       "      <td>3</td>\n",
       "      <td>1</td>\n",
       "    </tr>\n",
       "    <tr>\n",
       "      <th>2</th>\n",
       "      <td>297601</td>\n",
       "      <td>29</td>\n",
       "      <td>9</td>\n",
       "      <td>201808</td>\n",
       "      <td>201808</td>\n",
       "      <td>11816</td>\n",
       "      <td>24</td>\n",
       "      <td>0</td>\n",
       "      <td>1.0</td>\n",
       "      <td>0.0</td>\n",
       "      <td>0.0</td>\n",
       "      <td>1</td>\n",
       "      <td>0.0</td>\n",
       "      <td>0.0</td>\n",
       "      <td>0.0</td>\n",
       "      <td>0.0</td>\n",
       "      <td>0.0</td>\n",
       "      <td>0.0</td>\n",
       "      <td>0.0</td>\n",
       "      <td>0.0</td>\n",
       "      <td>0.0</td>\n",
       "      <td>0.0</td>\n",
       "      <td>0.0</td>\n",
       "      <td>48.44</td>\n",
       "      <td>0.01</td>\n",
       "      <td>7.13</td>\n",
       "      <td>0.576667</td>\n",
       "      <td>-452013.07</td>\n",
       "      <td>-137887.73</td>\n",
       "      <td>0.0</td>\n",
       "      <td>-5381.107976</td>\n",
       "      <td>14853188.88</td>\n",
       "      <td>1533.96</td>\n",
       "      <td>2199023.28</td>\n",
       "      <td>176823.677143</td>\n",
       "      <td>201710</td>\n",
       "      <td>3</td>\n",
       "      <td>7</td>\n",
       "      <td>12</td>\n",
       "      <td>2</td>\n",
       "      <td>3</td>\n",
       "      <td>1</td>\n",
       "    </tr>\n",
       "    <tr>\n",
       "      <th>3</th>\n",
       "      <td>298856</td>\n",
       "      <td>40</td>\n",
       "      <td>16</td>\n",
       "      <td>201808</td>\n",
       "      <td>201808</td>\n",
       "      <td>8444</td>\n",
       "      <td>7</td>\n",
       "      <td>0</td>\n",
       "      <td>1.0</td>\n",
       "      <td>0.0</td>\n",
       "      <td>0.0</td>\n",
       "      <td>2</td>\n",
       "      <td>0.0</td>\n",
       "      <td>0.0</td>\n",
       "      <td>0.0</td>\n",
       "      <td>0.0</td>\n",
       "      <td>0.0</td>\n",
       "      <td>0.0</td>\n",
       "      <td>0.0</td>\n",
       "      <td>0.0</td>\n",
       "      <td>0.0</td>\n",
       "      <td>0.0</td>\n",
       "      <td>0.0</td>\n",
       "      <td>24.37</td>\n",
       "      <td>0.01</td>\n",
       "      <td>1.08</td>\n",
       "      <td>0.191890</td>\n",
       "      <td>-802059.92</td>\n",
       "      <td>-50638.85</td>\n",
       "      <td>0.0</td>\n",
       "      <td>-6315.432441</td>\n",
       "      <td>5616765.42</td>\n",
       "      <td>604.52</td>\n",
       "      <td>245902.45</td>\n",
       "      <td>44226.499370</td>\n",
       "      <td>201509</td>\n",
       "      <td>5</td>\n",
       "      <td>27</td>\n",
       "      <td>18</td>\n",
       "      <td>2</td>\n",
       "      <td>2</td>\n",
       "      <td>1</td>\n",
       "    </tr>\n",
       "    <tr>\n",
       "      <th>4</th>\n",
       "      <td>309916</td>\n",
       "      <td>40</td>\n",
       "      <td>16</td>\n",
       "      <td>201808</td>\n",
       "      <td>201808</td>\n",
       "      <td>8488</td>\n",
       "      <td>7</td>\n",
       "      <td>0</td>\n",
       "      <td>1.0</td>\n",
       "      <td>0.0</td>\n",
       "      <td>0.0</td>\n",
       "      <td>2</td>\n",
       "      <td>0.5</td>\n",
       "      <td>0.0</td>\n",
       "      <td>0.0</td>\n",
       "      <td>0.0</td>\n",
       "      <td>0.0</td>\n",
       "      <td>0.0</td>\n",
       "      <td>0.0</td>\n",
       "      <td>0.0</td>\n",
       "      <td>0.0</td>\n",
       "      <td>0.0</td>\n",
       "      <td>0.0</td>\n",
       "      <td>35.65</td>\n",
       "      <td>0.00</td>\n",
       "      <td>4.25</td>\n",
       "      <td>0.315487</td>\n",
       "      <td>-746163.91</td>\n",
       "      <td>-109898.11</td>\n",
       "      <td>0.0</td>\n",
       "      <td>-6603.220442</td>\n",
       "      <td>10892596.84</td>\n",
       "      <td>2194.04</td>\n",
       "      <td>1309385.05</td>\n",
       "      <td>96394.662301</td>\n",
       "      <td>201509</td>\n",
       "      <td>3</td>\n",
       "      <td>10</td>\n",
       "      <td>16</td>\n",
       "      <td>2</td>\n",
       "      <td>2</td>\n",
       "      <td>0</td>\n",
       "    </tr>\n",
       "  </tbody>\n",
       "</table>\n",
       "</div>"
      ],
      "text/plain": [
       "   CodigoDC  Marca  Cupo  Fecha_Desde  Fecha_Hasta  Cliente  dias_promo  \\\n",
       "0    297601     29     9       201808       201808     3213          24   \n",
       "1    297601     29     9       201808       201808     3795          24   \n",
       "2    297601     29     9       201808       201808    11816          24   \n",
       "3    298856     40    16       201808       201808     8444           7   \n",
       "4    309916     40    16       201808       201808     8488           7   \n",
       "\n",
       "   duracion  target  target_mean_x  prom_rechazo  nproms_ofre  \\\n",
       "0         0     0.0            0.0           0.0            1   \n",
       "1         0     0.0            0.0           0.0            1   \n",
       "2         0     1.0            0.0           0.0            1   \n",
       "3         0     1.0            0.0           0.0            2   \n",
       "4         0     1.0            0.0           0.0            2   \n",
       "\n",
       "   duracion_mes_mean  CodigoDC_nunique  target_max  target_mean_y  \\\n",
       "0                0.0               0.0         0.0            0.0   \n",
       "1                0.0               0.0         0.0            0.0   \n",
       "2                0.0               0.0         0.0            0.0   \n",
       "3                0.0               0.0         0.0            0.0   \n",
       "4                0.5               0.0         0.0            0.0   \n",
       "\n",
       "   Fecha_Desde_nunique  target_mean_max  target_mean_mean  dias_promo_mean  \\\n",
       "0                  0.0              0.0               0.0              0.0   \n",
       "1                  0.0              0.0               0.0              0.0   \n",
       "2                  0.0              0.0               0.0              0.0   \n",
       "3                  0.0              0.0               0.0              0.0   \n",
       "4                  0.0              0.0               0.0              0.0   \n",
       "\n",
       "   dias_promo_max  dias_promo_min  dias_promo_std  Hl_sum  Hl_min  Hl_max  \\\n",
       "0             0.0             0.0             0.0   10.00    0.01    0.62   \n",
       "1             0.0             0.0             0.0    9.99    0.03    0.98   \n",
       "2             0.0             0.0             0.0   48.44    0.01    7.13   \n",
       "3             0.0             0.0             0.0   24.37    0.01    1.08   \n",
       "4             0.0             0.0             0.0   35.65    0.00    4.25   \n",
       "\n",
       "    Hl_mean   Dcto_sum   Dcto_min  Dcto_max    Dcto_mean       Nr_sum  \\\n",
       "0  0.096154 -128346.89  -22086.67       0.0 -1234.104712   3053627.15   \n",
       "1  0.203878 -248783.11  -70273.24       0.0 -5077.206327   3378290.77   \n",
       "2  0.576667 -452013.07 -137887.73       0.0 -5381.107976  14853188.88   \n",
       "3  0.191890 -802059.92  -50638.85       0.0 -6315.432441   5616765.42   \n",
       "4  0.315487 -746163.91 -109898.11       0.0 -6603.220442  10892596.84   \n",
       "\n",
       "     Nr_min      Nr_max        Nr_mean  FechaAltaCliente  Region  Gerencia  \\\n",
       "0   3092.91   178134.55   29361.799519            201003       3         8   \n",
       "1 -13347.44   284888.42   68944.709592            201004       3        10   \n",
       "2   1533.96  2199023.28  176823.677143            201710       3         7   \n",
       "3    604.52   245902.45   44226.499370            201509       5        27   \n",
       "4   2194.04  1309385.05   96394.662301            201509       3        10   \n",
       "\n",
       "   SubCanal  TipoPoblacion  Estrato  EF  \n",
       "0        15              2        3   1  \n",
       "1         6              2        3   1  \n",
       "2        12              2        3   1  \n",
       "3        18              2        2   1  \n",
       "4        16              2        2   0  "
      ]
     },
     "execution_count": 8,
     "metadata": {},
     "output_type": "execute_result"
    }
   ],
   "source": [
    "df = df.merge(clients,on=['Cliente'],how='left')\n",
    "df.head()"
   ]
  },
  {
   "cell_type": "code",
   "execution_count": 9,
   "metadata": {},
   "outputs": [
    {
     "data": {
      "image/png": "[encoded data removed]",
      "text/plain": [
       "<Figure size 432x288 with 1 Axes>"
      ]
     },
     "metadata": {
      "needs_background": "light"
     },
     "output_type": "display_data"
    }
   ],
   "source": [
    "plt.boxplot(active_promos.dias_promo)\n",
    "active_promos = active_promos.drop(active_promos[active_promos.dias_promo > 20].index)"
   ]
  },
  {
   "cell_type": "code",
   "execution_count": 10,
   "metadata": {},
   "outputs": [],
   "source": [
    "df['producto_encoded']=df['Marca']*100+df['Cupo']"
   ]
  },
  {
   "cell_type": "code",
   "execution_count": 11,
   "metadata": {},
   "outputs": [],
   "source": [
    "df=df.drop(columns='FechaAltaCliente')"
   ]
  },
  {
   "cell_type": "code",
   "execution_count": 87,
   "metadata": {},
   "outputs": [],
   "source": [
    "df.drop(columns=['CodigoDC','target'],inplace=True)"
   ]
  },
  {
   "cell_type": "code",
   "execution_count": 88,
   "metadata": {},
   "outputs": [],
   "source": [
    "train = df[df.Fecha_Desde<201908]\n",
    "te = df[df.Fecha_Desde>=201908]"
   ]
  },
  {
   "cell_type": "code",
   "execution_count": 89,
   "metadata": {},
   "outputs": [],
   "source": [
    "columnas_train=[x for x in train.columns if x!='target_mes']\n",
    "X_train,X_test,y_train,y_test=train[columnas_train],te[columnas_train],train['target_mes'],te['target_mes']"
   ]
  },
  {
   "cell_type": "code",
   "execution_count": 90,
   "metadata": {},
   "outputs": [],
   "source": [
    "from catboost import CatBoostClassifier"
   ]
  },
  {
   "cell_type": "code",
   "execution_count": 91,
   "metadata": {},
   "outputs": [
    {
     "name": "stdout",
     "output_type": "stream",
     "text": [
      "Learning rate set to 0.5\n",
      "0:\tlearn: 0.3847399\ttotal: 37.3ms\tremaining: 1.83s\n",
      "1:\tlearn: 0.3469645\ttotal: 71.1ms\tremaining: 1.71s\n",
      "2:\tlearn: 0.3328743\ttotal: 102ms\tremaining: 1.6s\n",
      "3:\tlearn: 0.3146724\ttotal: 141ms\tremaining: 1.62s\n",
      "4:\tlearn: 0.3088396\ttotal: 175ms\tremaining: 1.58s\n",
      "5:\tlearn: 0.3040913\ttotal: 217ms\tremaining: 1.59s\n",
      "6:\tlearn: 0.2999303\ttotal: 257ms\tremaining: 1.58s\n",
      "7:\tlearn: 0.2975596\ttotal: 294ms\tremaining: 1.54s\n",
      "8:\tlearn: 0.2951339\ttotal: 330ms\tremaining: 1.5s\n",
      "9:\tlearn: 0.2931650\ttotal: 365ms\tremaining: 1.46s\n",
      "10:\tlearn: 0.2919514\ttotal: 400ms\tremaining: 1.42s\n",
      "11:\tlearn: 0.2899918\ttotal: 442ms\tremaining: 1.4s\n",
      "12:\tlearn: 0.2890957\ttotal: 479ms\tremaining: 1.36s\n",
      "13:\tlearn: 0.2872482\ttotal: 517ms\tremaining: 1.33s\n",
      "14:\tlearn: 0.2859593\ttotal: 553ms\tremaining: 1.29s\n",
      "15:\tlearn: 0.2847032\ttotal: 593ms\tremaining: 1.26s\n",
      "16:\tlearn: 0.2838177\ttotal: 630ms\tremaining: 1.22s\n",
      "17:\tlearn: 0.2832172\ttotal: 672ms\tremaining: 1.19s\n",
      "18:\tlearn: 0.2809283\ttotal: 710ms\tremaining: 1.16s\n",
      "19:\tlearn: 0.2780980\ttotal: 746ms\tremaining: 1.12s\n",
      "20:\tlearn: 0.2773670\ttotal: 781ms\tremaining: 1.08s\n",
      "21:\tlearn: 0.2764222\ttotal: 819ms\tremaining: 1.04s\n",
      "22:\tlearn: 0.2756966\ttotal: 855ms\tremaining: 1s\n",
      "23:\tlearn: 0.2746861\ttotal: 902ms\tremaining: 977ms\n",
      "24:\tlearn: 0.2737783\ttotal: 941ms\tremaining: 941ms\n",
      "25:\tlearn: 0.2732951\ttotal: 975ms\tremaining: 900ms\n",
      "26:\tlearn: 0.2726664\ttotal: 1.01s\tremaining: 862ms\n",
      "27:\tlearn: 0.2712997\ttotal: 1.05s\tremaining: 823ms\n",
      "28:\tlearn: 0.2706652\ttotal: 1.08s\tremaining: 784ms\n",
      "29:\tlearn: 0.2700649\ttotal: 1.12s\tremaining: 748ms\n",
      "30:\tlearn: 0.2696285\ttotal: 1.16s\tremaining: 711ms\n",
      "31:\tlearn: 0.2691619\ttotal: 1.2s\tremaining: 674ms\n",
      "32:\tlearn: 0.2687395\ttotal: 1.26s\tremaining: 652ms\n",
      "33:\tlearn: 0.2682573\ttotal: 1.32s\tremaining: 624ms\n",
      "34:\tlearn: 0.2648086\ttotal: 1.37s\tremaining: 589ms\n",
      "35:\tlearn: 0.2643041\ttotal: 1.41s\tremaining: 548ms\n",
      "36:\tlearn: 0.2637466\ttotal: 1.45s\tremaining: 509ms\n",
      "37:\tlearn: 0.2631641\ttotal: 1.49s\tremaining: 469ms\n",
      "38:\tlearn: 0.2627223\ttotal: 1.52s\tremaining: 429ms\n",
      "39:\tlearn: 0.2623747\ttotal: 1.56s\tremaining: 391ms\n",
      "40:\tlearn: 0.2619250\ttotal: 1.61s\tremaining: 353ms\n",
      "41:\tlearn: 0.2611819\ttotal: 1.64s\tremaining: 313ms\n",
      "42:\tlearn: 0.2607791\ttotal: 1.68s\tremaining: 274ms\n",
      "43:\tlearn: 0.2603362\ttotal: 1.72s\tremaining: 234ms\n",
      "44:\tlearn: 0.2599055\ttotal: 1.75s\tremaining: 195ms\n",
      "45:\tlearn: 0.2593910\ttotal: 1.8s\tremaining: 156ms\n",
      "46:\tlearn: 0.2589901\ttotal: 1.83s\tremaining: 117ms\n",
      "47:\tlearn: 0.2585227\ttotal: 1.87s\tremaining: 78ms\n",
      "48:\tlearn: 0.2582972\ttotal: 1.9s\tremaining: 38.8ms\n",
      "49:\tlearn: 0.2579252\ttotal: 1.94s\tremaining: 0us\n"
     ]
    },
    {
     "data": {
      "text/plain": [
       "<catboost.core.CatBoostClassifier at 0x7fb6769adbd0>"
      ]
     },
     "execution_count": 91,
     "metadata": {},
     "output_type": "execute_result"
    }
   ],
   "source": [
    "model=CatBoostClassifier(n_estimators=50)\n",
    "model.fit(X_train,y_train)"
   ]
  },
  {
   "cell_type": "code",
   "execution_count": 92,
   "metadata": {},
   "outputs": [],
   "source": [
    "from sklearn.metrics import roc_auc_score"
   ]
  },
  {
   "cell_type": "code",
   "execution_count": 93,
   "metadata": {},
   "outputs": [
    {
     "data": {
      "text/plain": [
       "0.7874397187909823"
      ]
     },
     "execution_count": 93,
     "metadata": {},
     "output_type": "execute_result"
    }
   ],
   "source": [
    "preds=model.predict_proba(X_test)[:,-1]\n",
    "roc_auc_score(y_test,preds)"
   ]
  },
  {
   "cell_type": "code",
   "execution_count": null,
   "metadata": {},
   "outputs": [],
   "source": []
  },
  {
   "cell_type": "code",
   "execution_count": null,
   "metadata": {},
   "outputs": [],
   "source": []
  },
  {
   "cell_type": "code",
   "execution_count": 70,
   "metadata": {},
   "outputs": [],
   "source": [
    "def plot_importances(model, X, n_features=-1):\n",
    "    \n",
    "    importances = model.feature_importances_\n",
    "    indices = np.argsort(importances)\n",
    "    if n_features!=-1:\n",
    "        indices=indices[-n_features:]\n",
    "\n",
    "    # Plot the feature importances of the forest\n",
    "    plt.figure()\n",
    "    plt.title(\"Feature importances\")\n",
    "    plt.barh(range(len(X.columns[indices])), importances[indices],\n",
    "           align=\"center\")\n",
    "    # If you want to define your own labels,\n",
    "    # change indices to a list of labels on the following line.\n",
    "    plt.yticks(range(len(X.columns[indices])), X.columns[indices])\n",
    "    plt.ylim([-1, len(X.columns[indices])])\n",
    "    plt.show()"
   ]
  },
  {
   "cell_type": "code",
   "execution_count": 94,
   "metadata": {},
   "outputs": [
    {
     "data": {
      "image/png": "[encoded data removed]",
      "text/plain": [
       "<Figure size 432x288 with 1 Axes>"
      ]
     },
     "metadata": {
      "needs_background": "light"
     },
     "output_type": "display_data"
    }
   ],
   "source": [
    "plot_importances(model,X_train,15)"
   ]
  },
  {
   "cell_type": "code",
   "execution_count": null,
   "metadata": {},
   "outputs": [],
   "source": []
  },
  {
   "cell_type": "code",
   "execution_count": null,
   "metadata": {},
   "outputs": [],
   "source": []
  },
  {
   "cell_type": "code",
   "execution_count": 34,
   "metadata": {},
   "outputs": [
    {
     "data": {
      "text/html": [
       "<div>\n",
       "<style scoped>\n",
       "    .dataframe tbody tr th:only-of-type {\n",
       "        vertical-align: middle;\n",
       "    }\n",
       "\n",
       "    .dataframe tbody tr th {\n",
       "        vertical-align: top;\n",
       "    }\n",
       "\n",
       "    .dataframe thead th {\n",
       "        text-align: right;\n",
       "    }\n",
       "</style>\n",
       "<table border=\"1\" class=\"dataframe\">\n",
       "  <thead>\n",
       "    <tr style=\"text-align: right;\">\n",
       "      <th></th>\n",
       "      <th>Cliente</th>\n",
       "      <th>ClaseEnvase</th>\n",
       "      <th>SegmentoPrecio</th>\n",
       "      <th>Marca</th>\n",
       "      <th>Cupo</th>\n",
       "      <th>Nr</th>\n",
       "      <th>Hl</th>\n",
       "      <th>Dcto</th>\n",
       "      <th>fecha</th>\n",
       "    </tr>\n",
       "  </thead>\n",
       "  <tbody>\n",
       "    <tr>\n",
       "      <th>0</th>\n",
       "      <td>1</td>\n",
       "      <td>2</td>\n",
       "      <td>2.0</td>\n",
       "      <td>44</td>\n",
       "      <td>10.0</td>\n",
       "      <td>6352.94</td>\n",
       "      <td>0.03</td>\n",
       "      <td>0.0</td>\n",
       "      <td>201801</td>\n",
       "    </tr>\n",
       "    <tr>\n",
       "      <th>1</th>\n",
       "      <td>1</td>\n",
       "      <td>2</td>\n",
       "      <td>4.0</td>\n",
       "      <td>18</td>\n",
       "      <td>16.0</td>\n",
       "      <td>99130.50</td>\n",
       "      <td>0.45</td>\n",
       "      <td>0.0</td>\n",
       "      <td>201801</td>\n",
       "    </tr>\n",
       "    <tr>\n",
       "      <th>2</th>\n",
       "      <td>1</td>\n",
       "      <td>2</td>\n",
       "      <td>1.0</td>\n",
       "      <td>2</td>\n",
       "      <td>6.0</td>\n",
       "      <td>11605.40</td>\n",
       "      <td>0.07</td>\n",
       "      <td>-2880.0</td>\n",
       "      <td>201806</td>\n",
       "    </tr>\n",
       "    <tr>\n",
       "      <th>3</th>\n",
       "      <td>1</td>\n",
       "      <td>1</td>\n",
       "      <td>2.0</td>\n",
       "      <td>37</td>\n",
       "      <td>34.0</td>\n",
       "      <td>1944.01</td>\n",
       "      <td>0.01</td>\n",
       "      <td>0.0</td>\n",
       "      <td>201807</td>\n",
       "    </tr>\n",
       "    <tr>\n",
       "      <th>4</th>\n",
       "      <td>1</td>\n",
       "      <td>2</td>\n",
       "      <td>1.0</td>\n",
       "      <td>2</td>\n",
       "      <td>16.0</td>\n",
       "      <td>16250.18</td>\n",
       "      <td>0.06</td>\n",
       "      <td>0.0</td>\n",
       "      <td>201808</td>\n",
       "    </tr>\n",
       "  </tbody>\n",
       "</table>\n",
       "</div>"
      ],
      "text/plain": [
       "   Cliente  ClaseEnvase  SegmentoPrecio  Marca  Cupo        Nr    Hl    Dcto  \\\n",
       "0        1            2             2.0     44  10.0   6352.94  0.03     0.0   \n",
       "1        1            2             4.0     18  16.0  99130.50  0.45     0.0   \n",
       "2        1            2             1.0      2   6.0  11605.40  0.07 -2880.0   \n",
       "3        1            1             2.0     37  34.0   1944.01  0.01     0.0   \n",
       "4        1            2             1.0      2  16.0  16250.18  0.06     0.0   \n",
       "\n",
       "    fecha  \n",
       "0  201801  \n",
       "1  201801  \n",
       "2  201806  \n",
       "3  201807  \n",
       "4  201808  "
      ]
     },
     "execution_count": 34,
     "metadata": {},
     "output_type": "execute_result"
    }
   ],
   "source": [
    "sales.head()"
   ]
  },
  {
   "cell_type": "code",
   "execution_count": 35,
   "metadata": {},
   "outputs": [
    {
     "data": {
      "text/html": [
       "<div>\n",
       "<style scoped>\n",
       "    .dataframe tbody tr th:only-of-type {\n",
       "        vertical-align: middle;\n",
       "    }\n",
       "\n",
       "    .dataframe tbody tr th {\n",
       "        vertical-align: top;\n",
       "    }\n",
       "\n",
       "    .dataframe thead th {\n",
       "        text-align: right;\n",
       "    }\n",
       "</style>\n",
       "<table border=\"1\" class=\"dataframe\">\n",
       "  <thead>\n",
       "    <tr style=\"text-align: right;\">\n",
       "      <th></th>\n",
       "      <th>Cliente</th>\n",
       "      <th>FechaAltaCliente</th>\n",
       "      <th>Region</th>\n",
       "      <th>Gerencia</th>\n",
       "      <th>SubCanal</th>\n",
       "      <th>TipoPoblacion</th>\n",
       "      <th>Estrato</th>\n",
       "      <th>EF</th>\n",
       "    </tr>\n",
       "  </thead>\n",
       "  <tbody>\n",
       "    <tr>\n",
       "      <th>0</th>\n",
       "      <td>1</td>\n",
       "      <td>200903</td>\n",
       "      <td>4</td>\n",
       "      <td>21</td>\n",
       "      <td>12</td>\n",
       "      <td>1</td>\n",
       "      <td>1</td>\n",
       "      <td>1</td>\n",
       "    </tr>\n",
       "    <tr>\n",
       "      <th>1</th>\n",
       "      <td>9</td>\n",
       "      <td>200903</td>\n",
       "      <td>4</td>\n",
       "      <td>21</td>\n",
       "      <td>9</td>\n",
       "      <td>2</td>\n",
       "      <td>3</td>\n",
       "      <td>1</td>\n",
       "    </tr>\n",
       "    <tr>\n",
       "      <th>2</th>\n",
       "      <td>15</td>\n",
       "      <td>200903</td>\n",
       "      <td>4</td>\n",
       "      <td>21</td>\n",
       "      <td>9</td>\n",
       "      <td>2</td>\n",
       "      <td>3</td>\n",
       "      <td>0</td>\n",
       "    </tr>\n",
       "    <tr>\n",
       "      <th>3</th>\n",
       "      <td>37</td>\n",
       "      <td>200903</td>\n",
       "      <td>4</td>\n",
       "      <td>21</td>\n",
       "      <td>16</td>\n",
       "      <td>2</td>\n",
       "      <td>3</td>\n",
       "      <td>1</td>\n",
       "    </tr>\n",
       "    <tr>\n",
       "      <th>4</th>\n",
       "      <td>43</td>\n",
       "      <td>200903</td>\n",
       "      <td>4</td>\n",
       "      <td>21</td>\n",
       "      <td>9</td>\n",
       "      <td>2</td>\n",
       "      <td>3</td>\n",
       "      <td>0</td>\n",
       "    </tr>\n",
       "  </tbody>\n",
       "</table>\n",
       "</div>"
      ],
      "text/plain": [
       "   Cliente  FechaAltaCliente  Region  Gerencia  SubCanal  TipoPoblacion  \\\n",
       "0        1            200903       4        21        12              1   \n",
       "1        9            200903       4        21         9              2   \n",
       "2       15            200903       4        21         9              2   \n",
       "3       37            200903       4        21        16              2   \n",
       "4       43            200903       4        21         9              2   \n",
       "\n",
       "   Estrato  EF  \n",
       "0        1   1  \n",
       "1        3   1  \n",
       "2        3   0  \n",
       "3        3   1  \n",
       "4        3   0  "
      ]
     },
     "execution_count": 35,
     "metadata": {},
     "output_type": "execute_result"
    }
   ],
   "source": [
    "clients.head()"
   ]
  },
  {
   "cell_type": "code",
   "execution_count": null,
   "metadata": {},
   "outputs": [],
   "source": [
    "idx = pd.date_range('2018-01-01',periods=20,freq='MS')\n",
    "ventas = sales.groupby(['Año','Mes']).sum().reset_index()[['Hl']]\n",
    "ventas.index = idx\n",
    "ventas.plot(figsize=(12,5))\n",
    "plt.show()"
   ]
  },
  {
   "cell_type": "code",
   "execution_count": null,
   "metadata": {},
   "outputs": [],
   "source": [
    "# Cada promo puede tener de 1 a 3 marcas en promoción\n",
    "proms_mul = active_promos.groupby(['CodigoDC']).nunique().sort_values(by=['Marca','Cupo'],ascending=[False,False])\n",
    "proms_mul.reset_index().groupby('Marca').count()[['CodigoDC']]"
   ]
  },
  {
   "cell_type": "code",
   "execution_count": null,
   "metadata": {},
   "outputs": [],
   "source": [
    "# Cada mes se pueden presentar varias promos para el mismo Cliente-Marca-Producto\n",
    "n_promosXmes = active_promos.copy()\n",
    "n_promosXmes = n_promosXmes.groupby(['Fecha_Desde','Cliente','Marca','Cupo']).nunique()\n",
    "plt.hist(n_promosXmes.CodigoDC,bins=20)\n",
    "plt.show()"
   ]
  },
  {
   "cell_type": "code",
   "execution_count": null,
   "metadata": {},
   "outputs": [],
   "source": [
    "# Histograma de la cantidad de promos aceptadas por Cliente-Marca-Producto (1-18)\n",
    "n_promos_acepXcliente = executed_promos.groupby(['Cliente','Marca','Cupo']).nunique()\n",
    "plt.hist(n_promos_acepXcliente.CodigoDC,bins=20)\n",
    "plt.show()"
   ]
  },
  {
   "cell_type": "code",
   "execution_count": null,
   "metadata": {},
   "outputs": [],
   "source": [
    "# Cada Cliente-Marca-Producto puede tener más de 1 promo por mes (1-6)\n",
    "aceptados = df[df.target==1]\n",
    "aceptados.groupby(['Cliente','Marca','Cupo',aceptados.Fecha_Desde]).nunique()[['CodigoDC']].sort_values(by='CodigoDC',ascending=False).head()"
   ]
  },
  {
   "cell_type": "code",
   "execution_count": null,
   "metadata": {},
   "outputs": [],
   "source": [
    "from sklearn.ensemble import RandomForestClassifier"
   ]
  },
  {
   "cell_type": "code",
   "execution_count": null,
   "metadata": {},
   "outputs": [],
   "source": [
    "# Reporting util for different optimizers\n",
    "def report_perf(optimizer, X, y, title, callbacks=None):\n",
    "    \"\"\"\n",
    "    A wrapper for measuring time and performances of different optmizers\n",
    "    \n",
    "    optimizer = a sklearn or a skopt optimizer\n",
    "    X = the training set \n",
    "    y = our target\n",
    "    title = a string label for the experiment\n",
    "    \"\"\"\n",
    "    start = time()\n",
    "    if callbacks:\n",
    "        optimizer.fit(X, y, callback=callbacks)\n",
    "    else:\n",
    "        optimizer.fit(X, y)\n",
    "    d=pd.DataFrame(optimizer.cv_results_)\n",
    "    best_score = optimizer.best_score_\n",
    "    best_score_std = d.iloc[optimizer.best_index_].std_test_score\n",
    "    best_params = optimizer.best_params_\n",
    "    print((title + \" took %.2f seconds,  candidates checked: %d, best CV score: %.3f \"\n",
    "           +u\"\\u00B1\"+\" %.3f\") % (time() - start, \n",
    "                                  len(optimizer.cv_results_['params']),\n",
    "                                  best_score,\n",
    "                                  best_score_std))    \n",
    "    print('Best parameters:')\n",
    "    pprint.pprint(best_params)\n",
    "    print()\n",
    "    return best_params"
   ]
  },
  {
   "cell_type": "code",
   "execution_count": null,
   "metadata": {},
   "outputs": [],
   "source": [
    "roc_auc = make_scorer(roc_auc_score, greater_is_better=True, needs_threshold=True)\n",
    "skf = StratifiedKFold(n_splits=5, shuffle=True, random_state=0)"
   ]
  },
  {
   "cell_type": "code",
   "execution_count": null,
   "metadata": {},
   "outputs": [],
   "source": [
    "model=CatBoostClassifier(task_type='GPU',n_estimators=1000, loss_function='Logloss', od_type = 'Iter')"
   ]
  },
  {
   "cell_type": "code",
   "execution_count": null,
   "metadata": {},
   "outputs": [],
   "source": [
    "search_spaces = {'iterations': Integer(10, 1000),\n",
    "                 'depth': Integer(1, 8),\n",
    "                 'learning_rate': Real(0.01, 1.0, 'log-uniform'),\n",
    "                 'random_strength': Real(1e-9, 10, 'log-uniform'),\n",
    "                 'bagging_temperature': Real(0.0, 1.0),\n",
    "                 'border_count': Integer(1, 255),\n",
    "                 'l2_leaf_reg': Integer(2, 30),\n",
    "                 'scale_pos_weight':Real(0.01, 1.0, 'uniform')}"
   ]
  },
  {
   "cell_type": "code",
   "execution_count": null,
   "metadata": {},
   "outputs": [],
   "source": [
    "opt = BayesSearchCV(model,\n",
    "                    search_spaces,\n",
    "                    scoring=roc_auc,\n",
    "                    cv=skf,\n",
    "                    n_iter=100,\n",
    "                    n_jobs=1,  # use just 1 job with CatBoost in order to avoid segmentation fault\n",
    "                    return_train_score=False,\n",
    "                    refit=True,\n",
    "                    optimizer_kwargs={'base_estimator': 'GP'},\n",
    "                    random_state=42)"
   ]
  },
  {
   "cell_type": "code",
   "execution_count": null,
   "metadata": {},
   "outputs": [],
   "source": [
    "best_params = report_perf(opt, df_train_features, y_target,'CatBoost', \n",
    "                        callbacks=[VerboseCallback(100), \n",
    "                                    DeadlineStopper(60*10)])\n"
   ]
  },
  {
   "cell_type": "code",
   "execution_count": null,
   "metadata": {},
   "outputs": [],
   "source": [
    "tuned_model = CatBoostClassifier(**best_params,task_type = \"GPU\",od_type='Iter',one_hot_max_size=10)\n",
    "tuned_model.fit(X_train,y_train)"
   ]
  },
  {
   "cell_type": "code",
   "execution_count": null,
   "metadata": {},
   "outputs": [],
   "source": [
    "roc_auc_score(te.groupby(['Cliente','Marca','Cupo']).Target.max().reset_index()['Target']\n",
    "              ,te.groupby(['Cliente','Marca','Cupo']).preds.max().reset_index()['preds'])"
   ]
  },
  {
   "cell_type": "code",
   "execution_count": null,
   "metadata": {},
   "outputs": [],
   "source": [
    "to_model=comp_test.drop(columns=columnas_drop+['Target'])"
   ]
  },
  {
   "cell_type": "code",
   "execution_count": null,
   "metadata": {},
   "outputs": [],
   "source": [
    "model.fit(X,y)\n",
    "p_out=model.predict_proba(to_model)[:,-1]"
   ]
  },
  {
   "cell_type": "code",
   "execution_count": null,
   "metadata": {},
   "outputs": [],
   "source": [
    "copia_comp_test=comp_test.copy()\n",
    "copia_comp_test['preds']=p_out"
   ]
  },
  {
   "cell_type": "code",
   "execution_count": null,
   "metadata": {},
   "outputs": [],
   "source": [
    "t=copia_comp_test.groupby(['Cliente','Cupo','Marca']).preds.max().reset_index()"
   ]
  },
  {
   "cell_type": "code",
   "execution_count": null,
   "metadata": {},
   "outputs": [],
   "source": [
    "test=test.merge(t,on=['Cliente','Marca','Cupo'],how='left')[['Cliente','Marca','Cupo','preds']].rename(columns={'preds':'Ejecuto_Promo'})"
   ]
  },
  {
   "cell_type": "code",
   "execution_count": null,
   "metadata": {},
   "outputs": [],
   "source": [
    "test.set_index('Cliente').to_csv('test1.csv')"
   ]
  },
  {
   "cell_type": "code",
   "execution_count": null,
   "metadata": {},
   "outputs": [],
   "source": [
    "def plot_importances(model, X, n_features=-1):\n",
    "    \n",
    "    importances = model.feature_importances_\n",
    "    indices = np.argsort(importances)\n",
    "    if n_features!=-1:\n",
    "        indices=indices[-n_features:]\n",
    "\n",
    "    # Plot the feature importances of the forest\n",
    "    plt.figure()\n",
    "    plt.title(\"Feature importances\")\n",
    "    plt.barh(range(len(X.columns[indices])), importances[indices],\n",
    "           align=\"center\")\n",
    "    # If you want to define your own labels,\n",
    "    # change indices to a list of labels on the following line.\n",
    "    plt.yticks(range(len(X.columns[indices])), X.columns[indices])\n",
    "    plt.ylim([-1, len(X.columns[indices])])\n",
    "    plt.show()"
   ]
  },
  {
   "cell_type": "code",
   "execution_count": null,
   "metadata": {},
   "outputs": [],
   "source": [
    "plot_importances(model,X_train,15)"
   ]
  }
 ],
 "metadata": {
  "kernelspec": {
   "display_name": "Python 3",
   "language": "python",
   "name": "python3"
  },
  "language_info": {
   "codemirror_mode": {
    "name": "ipython",
    "version": 3
   },
   "file_extension": ".py",
   "mimetype": "text/x-python",
   "name": "python",
   "nbconvert_exporter": "python",
   "pygments_lexer": "ipython3",
   "version": "3.8.3"
  }
 },
 "nbformat": 4,
 "nbformat_minor": 4
}
